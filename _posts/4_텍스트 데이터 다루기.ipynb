{
 "cells": [
  {
   "cell_type": "markdown",
   "id": "aa916699",
   "metadata": {},
   "source": [
    " # 텍스트 데이터 다루기\n",
    " - 텍스트(단어 또는 문자의 시퀀스)\n",
    " - 시퀀스 데이터를 처리하는 기본적인 딥러닝 모델 : RNN(순환 신경망),CNN(1d cnn)\n",
    " -  텍스트 벡터화 : 텍스트를 문장이나 단어로 나누고 하나의 벡터로 변환\n",
    " - 텍스트에서 문장이나 단어의 n-gram을 추출하여, 각 n-gram을 하나의 벡터로 변환\n",
    "     - n-gram : 문장에서 추출한 n개(또는 그이하)의 연속된 단어 그룹\n",
    "     - ex) \"The cat sat on the mat\" -> 2-gram : {'The', 'The cat','cat','cat at','sat','sat on','on','on the','the','the mat','mat'}\n",
    "     - 예제와 같은 것을 2-gram 가방 (bag of 2-gram)이라고 한다. \n",
    "     - BoW(Bag-of-Words): 각 샘플을 어휘 사전 크기의 벡터로 변환, 순서가 없다. 이런 토큰화 방법은 로지스틱 회귀, 랜덤 포레스트 같은 얕은 학습 방법의 텍스트 처리 모델을 사용할때 강력한 방법!!!!\n",
    "     \n",
    "    <br>\n",
    " - Token : 텍스트를 나누는 이런 단위(단어,문자,n-gram)\n",
    " - Tokenization : 텍스트를 토큰으로 나누는 작업\n",
    "     - ## 모든 벡터화 과정은 어떤 종류의 토큰화를 적용하고, 생성된 토큰에 수치형 벡터를 연결하는 것으로 이루어짐.\n",
    " -> Token과 Vector를 연결하는 방법  \n",
    "     1. one-hot-encoding\n",
    "     2. token embedding(일반적으로 단어에 대해 사용되므로 word embedding이라고 함)"
   ]
  },
  {
   "cell_type": "markdown",
   "id": "eb31cd78",
   "metadata": {},
   "source": [
    "# 1. sparse - one-hot-encoding"
   ]
  },
  {
   "cell_type": "code",
   "execution_count": 47,
   "id": "569305c2",
   "metadata": {},
   "outputs": [
    {
     "name": "stdout",
     "output_type": "stream",
     "text": [
      "[[0. 1. 1. ... 0. 0. 0.]\n",
      " [0. 1. 0. ... 0. 0. 0.]]\n",
      "{'the': 1, 'cat': 2, 'sat': 3, 'on': 4, 'mat': 5, 'dog': 6, 'ate': 7, 'my': 8, 'homework': 9}\n"
     ]
    }
   ],
   "source": [
    "from keras.preprocessing.text import Tokenizer\n",
    "\n",
    "samples = ['The cat sat on the mat.', 'The dog ate my homework.']\n",
    "\n",
    "tokenizer = Tokenizer(num_words=1000) # 가장 빈도가 높은 1000개 단어만 선택하도록 Tokenizer 객체를 만든다.\n",
    "tokenizer.fit_on_texts(samples) # 단어 인덱스 구축\n",
    "\n",
    "sequences = tokenizer.texts_to_sequences(samples) # 문자열을 정수 인덱스의 열로 구축한다.\n",
    "\n",
    "one_hot_results = tokenizer.texts_to_matrix(samples, mode='binary') \n",
    "print(one_hot_results)\n",
    "word_index = tokenizer.word_index\n",
    "print(word_index)"
   ]
  },
  {
   "cell_type": "markdown",
   "id": "4846f81e",
   "metadata": {},
   "source": [
    "# 2. Dense - word embedding\n",
    "원핫인코딩으로 얻은 표현은 sparse하고 고차원이지만,  \n",
    "단어임베딩으로 얻은 표현은 dense하고 비교적 저차원이며 데이터로부터 학습된다!\n",
    "<br>\n",
    "* Word Embedding\n",
    "- Sparse representation (희소 표현) (0/1)  \n",
    "    희소 표현의 한 가지 방법 - one-hot-encoding 표현  \n",
    "    but, 단어집합 커질수록, 단어 vector dim증가, 단어 백터 네 실질적 표현값은 인덱스하나값이고, 나머지는 다 0이므로 sparse하다고함.\n",
    "    이렇게 단어 표현할 경우, 단어 vector를 통해 단어 간의 유사도,관계 알아낼 수 x\n",
    "- Dense representation  (밀집 표현) (실수)\n",
    "    단어 vector dim이 기하급수적 증가를 막기 위해.\n",
    "    밀집 표현에서 단어 vector dim은 단어 벡터의 크기가 아니다.\n",
    "    사용자가 설정한 값으로 특정 차원 단어 표현\n",
    "    단어 벡터 내의 값은 실수값 가짐 (임베딩)\n",
    "    0,1x\n",
    "<br>\n",
    "\n",
    "ex) embedding 층에 (32,10)크기가 들어온다 : 길이가 10인 시퀀스32개로 이루어진 것 (토큰개수samples, sequence_length즉 임베딩차원)  \n",
    "- embedding층에 2D input이 들어오고, 3D output이 나옴\n",
    "- input : 2D (samples,sequence_length)\n",
    "- output : 3D (samples, sequence_length, embedding_dimensionality)"
   ]
  },
  {
   "cell_type": "code",
   "execution_count": 9,
   "id": "1c38c0fd",
   "metadata": {},
   "outputs": [],
   "source": [
    "from keras.layers import Embedding\n",
    "\n",
    "embedding_layer = Embedding(1000,64) "
   ]
  },
  {
   "cell_type": "code",
   "execution_count": 48,
   "id": "b61700f6",
   "metadata": {},
   "outputs": [
    {
     "name": "stdout",
     "output_type": "stream",
     "text": [
      "데이터 로드중...!\n",
      "\n",
      "훈련데이터 (25000,)\n",
      "검증데이터 (25000,)\n",
      "\n",
      " sequence padding 후!\n",
      "훈련데이터 (25000, 20)\n",
      "검증데이터 (25000, 20)\n"
     ]
    }
   ],
   "source": [
    "# embedding층에 사용할 IMDB 데이터 로드하기 (영화 리뷰 감성 예측)\n",
    "from keras.datasets import imdb \n",
    "from tensorflow.keras import preprocessing \n",
    "#from tensorflow.keras.preprocessing.sequence import pad_sequences\n",
    "\n",
    "max_features = 10000 # 특성으로 사용할 단어의 수\n",
    "maxlen = 20 #사용할 텍스트 길이 -> max_features에서 가장 빈법ㄴ한 maxlen의개수만큼 쓰겟지\n",
    "\n",
    "print('데이터 로드중...!\\n')\n",
    "(x_train, y_train), (x_test, y_test) = imdb.load_data(num_words=max_features)\n",
    "\n",
    "print('훈련데이터', x_train.shape)\n",
    "print('검증데이터', x_test.shape)\n",
    "\n",
    "print('\\n','sequence padding 후!')\n",
    "x_train = pad_sequences(x_train, maxlen=maxlen)\n",
    "x_test = pad_sequences(x_test, maxlen=maxlen)\n",
    "\n",
    "print('훈련데이터', x_train.shape)\n",
    "print('검증데이터', x_test.shape)"
   ]
  },
  {
   "cell_type": "code",
   "execution_count": 50,
   "id": "8570788f",
   "metadata": {},
   "outputs": [
    {
     "name": "stdout",
     "output_type": "stream",
     "text": [
      "Model: \"sequential_6\"\n",
      "_________________________________________________________________\n",
      " Layer (type)                Output Shape              Param #   \n",
      "=================================================================\n",
      " embedding_10 (Embedding)    (None, 20, 8)             80000     \n",
      "                                                                 \n",
      " flatten_4 (Flatten)         (None, 160)               0         \n",
      "                                                                 \n",
      " dense_3 (Dense)             (None, 1)                 161       \n",
      "                                                                 \n",
      "=================================================================\n",
      "Total params: 80,161\n",
      "Trainable params: 80,161\n",
      "Non-trainable params: 0\n",
      "_________________________________________________________________\n"
     ]
    }
   ],
   "source": [
    "# imdb 데이터에 embedding층과 분류기 사용하기\n",
    "from keras.models import Sequential\n",
    "from keras.layers import Flatten, Dense, Embedding\n",
    "\n",
    "model = Sequential()\n",
    "model.add(Embedding(10000,8, input_length=maxlen))\n",
    "model.add(Flatten()) # 3D tensor를 2D tensor로 펼치기 (samples, maxlenx8)\n",
    "model.add(Dense(1, activation='sigmoid'))\n",
    "\n",
    "model.compile(optimizer='rmsprop', loss='binary_crossentropy', metrics=['accuracy'])\n",
    "model.summary()"
   ]
  },
  {
   "cell_type": "code",
   "execution_count": 51,
   "id": "56ce6086",
   "metadata": {},
   "outputs": [
    {
     "name": "stdout",
     "output_type": "stream",
     "text": [
      "Epoch 1/10\n",
      "WARNING:tensorflow:AutoGraph could not transform <function Model.make_train_function.<locals>.train_function at 0x000001F370CDDDC8> and will run it as-is.\n",
      "Please report this to the TensorFlow team. When filing the bug, set the verbosity to 10 (on Linux, `export AUTOGRAPH_VERBOSITY=10`) and attach the full output.\n",
      "Cause: 'arguments' object has no attribute 'posonlyargs'\n",
      "To silence this warning, decorate the function with @tf.autograph.experimental.do_not_convert\n",
      "WARNING: AutoGraph could not transform <function Model.make_train_function.<locals>.train_function at 0x000001F370CDDDC8> and will run it as-is.\n",
      "Please report this to the TensorFlow team. When filing the bug, set the verbosity to 10 (on Linux, `export AUTOGRAPH_VERBOSITY=10`) and attach the full output.\n",
      "Cause: 'arguments' object has no attribute 'posonlyargs'\n",
      "To silence this warning, decorate the function with @tf.autograph.experimental.do_not_convert\n",
      "614/625 [============================>.] - ETA: 0s - loss: 0.6665 - accuracy: 0.6257WARNING:tensorflow:AutoGraph could not transform <function Model.make_test_function.<locals>.test_function at 0x000001F35E577EE8> and will run it as-is.\n",
      "Please report this to the TensorFlow team. When filing the bug, set the verbosity to 10 (on Linux, `export AUTOGRAPH_VERBOSITY=10`) and attach the full output.\n",
      "Cause: 'arguments' object has no attribute 'posonlyargs'\n",
      "To silence this warning, decorate the function with @tf.autograph.experimental.do_not_convert\n",
      "WARNING: AutoGraph could not transform <function Model.make_test_function.<locals>.test_function at 0x000001F35E577EE8> and will run it as-is.\n",
      "Please report this to the TensorFlow team. When filing the bug, set the verbosity to 10 (on Linux, `export AUTOGRAPH_VERBOSITY=10`) and attach the full output.\n",
      "Cause: 'arguments' object has no attribute 'posonlyargs'\n",
      "To silence this warning, decorate the function with @tf.autograph.experimental.do_not_convert\n",
      "625/625 [==============================] - 1s 2ms/step - loss: 0.6658 - accuracy: 0.6265 - val_loss: 0.6134 - val_accuracy: 0.6980\n",
      "Epoch 2/10\n",
      "625/625 [==============================] - 1s 2ms/step - loss: 0.5394 - accuracy: 0.7530 - val_loss: 0.5244 - val_accuracy: 0.7326\n",
      "Epoch 3/10\n",
      "625/625 [==============================] - 1s 2ms/step - loss: 0.4614 - accuracy: 0.7914 - val_loss: 0.4998 - val_accuracy: 0.7470\n",
      "Epoch 4/10\n",
      "625/625 [==============================] - 1s 2ms/step - loss: 0.4207 - accuracy: 0.8099 - val_loss: 0.4940 - val_accuracy: 0.7520\n",
      "Epoch 5/10\n",
      "625/625 [==============================] - 1s 2ms/step - loss: 0.3913 - accuracy: 0.8258 - val_loss: 0.4948 - val_accuracy: 0.7534\n",
      "Epoch 6/10\n",
      "625/625 [==============================] - 1s 2ms/step - loss: 0.3666 - accuracy: 0.8405 - val_loss: 0.4996 - val_accuracy: 0.7516\n",
      "Epoch 7/10\n",
      "625/625 [==============================] - 1s 2ms/step - loss: 0.3442 - accuracy: 0.8534 - val_loss: 0.5039 - val_accuracy: 0.7488\n",
      "Epoch 8/10\n",
      "625/625 [==============================] - 1s 2ms/step - loss: 0.3235 - accuracy: 0.8656 - val_loss: 0.5109 - val_accuracy: 0.7522\n",
      "Epoch 9/10\n",
      "625/625 [==============================] - 1s 2ms/step - loss: 0.3048 - accuracy: 0.8759 - val_loss: 0.5219 - val_accuracy: 0.7520\n",
      "Epoch 10/10\n",
      "625/625 [==============================] - 1s 2ms/step - loss: 0.2871 - accuracy: 0.8865 - val_loss: 0.5326 - val_accuracy: 0.7462\n"
     ]
    }
   ],
   "source": [
    "history = model.fit(x_train, y_train, epochs=10, batch_size=32, validation_split=0.2)"
   ]
  },
  {
   "cell_type": "code",
   "execution_count": 52,
   "id": "4517d442",
   "metadata": {},
   "outputs": [
    {
     "data": {
      "image/png": "[encoded data removed]",
      "text/plain": [
       "<Figure size 432x288 with 1 Axes>"
      ]
     },
     "metadata": {
      "needs_background": "light"
     },
     "output_type": "display_data"
    }
   ],
   "source": [
    "import matplotlib.pyplot as plt\n",
    "\n",
    "loss = history.history['loss']\n",
    "val_loss = history.history['val_loss']\n",
    "\n",
    "epochs = range(1,len(loss)+1)\n",
    "\n",
    "plt.plot(epochs, loss, 'bo', label='Training loss')\n",
    "plt.plot(epochs, val_loss, 'b', label='Validation loss')\n",
    "plt.title('Training and Validation loss')\n",
    "plt.xlabel('epochs')\n",
    "plt.ylabel('loss')\n",
    "plt.legend()\n",
    "plt.show()"
   ]
  },
  {
   "cell_type": "markdown",
   "id": "2c6e9258",
   "metadata": {},
   "source": [
    "검증 데이터 손실에 비해, 훈련 데이터의 손실은 계속해서 줄어든다."
   ]
  },
  {
   "cell_type": "code",
   "execution_count": 53,
   "id": "0cd1a2eb",
   "metadata": {},
   "outputs": [
    {
     "data": {
      "image/png": "[encoded data removed]",
      "text/plain": [
       "<Figure size 432x288 with 1 Axes>"
      ]
     },
     "metadata": {
      "needs_background": "light"
     },
     "output_type": "display_data"
    }
   ],
   "source": [
    "plt.clf()\n",
    "\n",
    "acc = history.history['accuracy']\n",
    "val_acc = history.history['val_accuracy']\n",
    "\n",
    "epochs = range(1, len(acc)+1)\n",
    "\n",
    "plt.plot(epochs, acc, 'b', label='Training Accuracy')\n",
    "plt.plot(epochs, val_acc, 'bo', label='Validation Accuracy')\n",
    "plt.title('Training and Validation Accuracy')\n",
    "plt.xlabel('epochs')\n",
    "plt.ylabel('accuracy')\n",
    "plt.legend()\n",
    "plt.show()"
   ]
  },
  {
   "cell_type": "markdown",
   "id": "0c6c5261",
   "metadata": {},
   "source": [
    "훈련데이터의 정확도는 계속 올라가는 반면, 검증데이터의 정확도는 epoch=4정도부터 변하지 않는다.  \n",
    "-> 새로운 데이터에 대해서도 성능이 좋지 않을 수 있다.  \n",
    "-> overfitting  \n",
    "- overfitting 방지하려면?\n",
    "        - 훈련 데이터 더 모으기\n",
    "        - 네트워크 수 줄이기(은닉층..이런거)\n",
    "        - 가중치 규제 ( L1-norm: 가중치의 절댓값에 비례하는 비용 추가, L2-norm : 가중치의 제곱에 비례하는 비용 추가\n",
    "        - Dropout 추가 : 무작위로 일부 특성 제거 (0으로만들어주기)"
   ]
  },
  {
   "cell_type": "code",
   "execution_count": 58,
   "id": "88e93bc9",
   "metadata": {},
   "outputs": [],
   "source": []
  },
  {
   "cell_type": "code",
   "execution_count": null,
   "id": "30a342d6",
   "metadata": {},
   "outputs": [],
   "source": []
  }
 ],
 "metadata": {
  "kernelspec": {
   "display_name": "Python 3 (ipykernel)",
   "language": "python",
   "name": "python3"
  },
  "language_info": {
   "codemirror_mode": {
    "name": "ipython",
    "version": 3
   },
   "file_extension": ".py",
   "mimetype": "text/x-python",
   "name": "python",
   "nbconvert_exporter": "python",
   "pygments_lexer": "ipython3",
   "version": "3.7.11"
  }
 },
 "nbformat": 4,
 "nbformat_minor": 5
}
